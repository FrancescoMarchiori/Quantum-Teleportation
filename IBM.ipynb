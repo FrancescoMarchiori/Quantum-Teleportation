{
 "cells": [
  {
   "cell_type": "markdown",
   "metadata": {},
   "source": [
    "# 🌐 IBM\n",
    "\n",
    "We can now execute teleportation inside a chip of a real quantum computer thanks to IBM Quantum Experience. An account is neede d in order to perform it."
   ]
  },
  {
   "cell_type": "markdown",
   "metadata": {},
   "source": [
    "## 📚 Libraries"
   ]
  },
  {
   "cell_type": "code",
   "execution_count": 1,
   "metadata": {},
   "outputs": [],
   "source": [
    "# Librerie necessarie\n",
    "import numpy as np\n",
    "from qiskit import QuantumCircuit, QuantumRegister, ClassicalRegister, execute, BasicAer, IBMQ\n",
    "from qiskit.visualization import plot_histogram, plot_bloch_multivector\n",
    "from qiskit.extensions import Initialize\n",
    "from qiskit_textbook.tools import random_state, array_to_latex\n",
    "from qiskit.tools.monitor import job_monitor\n",
    "%matplotlib inline"
   ]
  },
  {
   "cell_type": "markdown",
   "metadata": {},
   "source": [
    "## 🔧 Functions"
   ]
  },
  {
   "cell_type": "code",
   "execution_count": 2,
   "metadata": {},
   "outputs": [],
   "source": [
    "# Funzioni per la creazione del circuito\n",
    "\n",
    "def bell_pair(circuit, a, b):\n",
    "    # Crea una coppia di Bell nel circuito usando i qubit 'a' e 'b'\n",
    "    circuit.h(a)\n",
    "    circuit.cx(a, b)\n",
    "    \n",
    "def Alice_side(circuit, c, a):\n",
    "    # Operazioni che compie Alice, dove il qubit 'c' contiene lo stato da teletrasportare\n",
    "    circuit.barrier()\n",
    "    circuit.cx(c, a)\n",
    "    circuit.h(c)\n",
    "    \n",
    "def Bob_side(circuit, c, a, b):\n",
    "    circuit.barrier()\n",
    "    # Modifica della funzione originaria poiché i quantum computer IBM non supportano istruzioni dopo misure\n",
    "    circuit.cz(c, b)\n",
    "    circuit.cx(a, b)"
   ]
  },
  {
   "cell_type": "markdown",
   "metadata": {},
   "source": [
    "## ❓ Random State Initialization"
   ]
  },
  {
   "cell_type": "code",
   "execution_count": 3,
   "metadata": {},
   "outputs": [],
   "source": [
    "# Creazione di uno stato iniziale casuale\n",
    "# Si utilizza lo stesso metodo di QASM\n",
    "\n",
    "psi = random_state(1)\n",
    "init_gate = Initialize(psi) # Porta dallo stato |0> allo stato |psi>\n",
    "init_gate.label = \"init\"\n",
    "inverse_init_gate = init_gate.gates_to_uncompute() # Porta dallo stato |psi> allo stato |0>"
   ]
  },
  {
   "cell_type": "markdown",
   "metadata": {},
   "source": [
    "## 🧩 Circuit Initialization"
   ]
  },
  {
   "cell_type": "code",
   "execution_count": 4,
   "metadata": {},
   "outputs": [
    {
     "data": {
      "image/png": "[encoded data removed]",
      "text/plain": [
       "<Figure size 1502.59x264.88 with 1 Axes>"
      ]
     },
     "execution_count": 4,
     "metadata": {},
     "output_type": "execute_result"
    }
   ],
   "source": [
    "# Creazione del circuito\n",
    "\n",
    "circuit = QuantumCircuit(3, 1) # 3 qubit e 1 bit\n",
    "\n",
    "# Inizializzazione del qubit C da teletrasportare\n",
    "circuit.append(init_gate, [0])\n",
    "circuit.barrier()\n",
    "\n",
    "# Passo 1: creazione della coppia di Bell\n",
    "bell_pair(circuit, 1, 2)\n",
    "\n",
    "# Passo 2: Alice agisce sui suoi qubit\n",
    "Alice_side(circuit, 0, 1)\n",
    "\n",
    "# Passo 3: Bob agisce sul suo qubit in base al risultato della misura di Alice\n",
    "Bob_side(circuit, 0, 1 ,2)\n",
    "\n",
    "# Passo 4: inversione del processo di inizializzazione e misura del valore\n",
    "circuit.append(inverse_init_gate, [2])\n",
    "circuit.measure(2,0)\n",
    "\n",
    "circuit.draw(output = 'mpl')"
   ]
  },
  {
   "cell_type": "markdown",
   "metadata": {},
   "source": [
    "## 🌐 Login"
   ]
  },
  {
   "cell_type": "code",
   "execution_count": 9,
   "metadata": {},
   "outputs": [
    {
     "name": "stderr",
     "output_type": "stream",
     "text": [
      "ibmqfactory.load_account:WARNING:2020-07-29 14:35:12,651: Credentials are already in use. The existing account in the session will be replaced.\n"
     ]
    },
    {
     "name": "stdout",
     "output_type": "stream",
     "text": [
      "5f216d077fa4e80019d6037b\n",
      "Job Status: job has successfully run\n"
     ]
    }
   ],
   "source": [
    "# Esecuzione in un quantum computer della IBM\n",
    "\n",
    "IBMQ.load_account()\n",
    "provider = IBMQ.get_provider(hub = 'ibm-q')\n",
    "backend = provider.get_backend('ibmq_london')\n",
    "job = execute(circuit, backend = backend, shots = 8192)\n",
    "print(job.job_id())\n",
    "job_monitor(job)"
   ]
  },
  {
   "cell_type": "markdown",
   "metadata": {},
   "source": [
    "## ✅ Verification"
   ]
  },
  {
   "cell_type": "code",
   "execution_count": 10,
   "metadata": {},
   "outputs": [
    {
     "name": "stdout",
     "output_type": "stream",
     "text": [
      "{'0': 7046, '1': 1146}\n"
     ]
    },
    {
     "data": {
      "image/png": "[encoded data removed]",
      "text/plain": [
       "<Figure size 504x360 with 1 Axes>"
      ]
     },
     "execution_count": 10,
     "metadata": {},
     "output_type": "execute_result"
    }
   ],
   "source": [
    "# Visualizzazione dei risultati\n",
    "\n",
    "result = job.result()\n",
    "measurement_result = result.get_counts(circuit)\n",
    "print(measurement_result)\n",
    "plot_histogram(measurement_result)"
   ]
  },
  {
   "cell_type": "code",
   "execution_count": 12,
   "metadata": {},
   "outputs": [
    {
     "name": "stdout",
     "output_type": "stream",
     "text": [
      "L'errore sperimentale è del:  13.9892578125 %\n"
     ]
    }
   ],
   "source": [
    "# Visualizzazione dell'errore percentuale\n",
    "\n",
    "error_rate_percent = sum([measurement_result[result] for result in measurement_result.keys() if result[0]=='1']) \\\n",
    "                    * 100./ sum(list(measurement_result.values()))\n",
    "print(\"L'errore sperimentale è del: \", error_rate_percent, \"%\")"
   ]
  }
 ],
 "metadata": {
  "kernelspec": {
   "display_name": "Python 3",
   "language": "python",
   "name": "python3"
  },
  "language_info": {
   "codemirror_mode": {
    "name": "ipython",
    "version": 3
   },
   "file_extension": ".py",
   "mimetype": "text/x-python",
   "name": "python",
   "nbconvert_exporter": "python",
   "pygments_lexer": "ipython3",
   "version": "3.8.3"
  }
 },
 "nbformat": 4,
 "nbformat_minor": 4
}
